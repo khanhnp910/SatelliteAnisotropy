{
 "cells": [
  {
   "cell_type": "code",
   "execution_count": null,
   "id": "16904f20",
   "metadata": {},
   "outputs": [],
   "source": [
    "from modules.stats_v3 import *\n",
    "from modules.helper_functions_v3 import *\n",
    "from modules.plot_functions_v3 import *\n",
    "import config\n",
    "\n",
    "import random\n",
    "\n",
    "import __main__\n",
    "from sys import argv\n",
    "from os.path import join, isdir\n",
    "from os import makedirs"
   ]
  },
  {
   "cell_type": "code",
   "execution_count": null,
   "id": "dc6df254",
   "metadata": {},
   "outputs": [],
   "source": [
    "plot_pretty()"
   ]
  },
  {
   "cell_type": "code",
   "execution_count": null,
   "id": "1e2a525e",
   "metadata": {},
   "outputs": [],
   "source": [
    "suite_name = 'caterpillar_17_LX14'\n",
    "#suite_name = 'iBurr'\n",
    "saveimage = False\n",
    "executed_as_300kpc = True\n",
    "executed_as_python = hasattr(__main__, '__file__')\n",
    "\n",
    "seed = random.randint(0, 100000)\n",
    "\n",
    "if executed_as_python:\n",
    "    import matplotlib\n",
    "    matplotlib.use('Agg')\n",
    "    saveimage = True\n",
    "    suite_name = argv[1]\n",
    "    executed_as_300kpc = argv[2]=='1'\n",
    "\n",
    "select_by_Rvir = not executed_as_300kpc\n",
    "name_extension = \"_300kpc\" if executed_as_300kpc else \"\"\n",
    "\n",
    "if suite_name[0] == 'i':\n",
    "  catalog = 'elvis_isolated'\n",
    "  suite_dir = join(config.raw_dir, config.elvis_isolated_raw_name)\n",
    "  suite_name_decorated = elvis_name_template.substitute(suite_name=suite_name)\n",
    "else:\n",
    "  catalog = 'caterpillar'\n",
    "  suite_dir = join(config.raw_dir, config.caterpillar_raw_name)\n",
    "  suite_name_decorated = caterpillar_name_template.substitute(suite_name=suite_name)\n",
    "\n",
    "data_dir = join(config.gendata_dir, config.gendata_name_template.substitute(catalog=catalog, _300kpc=name_extension, _surv_probs=''))\n",
    "data_surv_probs_dir = join(config.gendata_dir, config.gendata_name_template.substitute(catalog=catalog, _300kpc=name_extension, _surv_probs='_surv_probs'))\n",
    "pre_save_dir = join(config.result_dir, f'{catalog}{name_extension}')\n",
    "if not isdir(pre_save_dir):\n",
    "  makedirs(pre_save_dir)\n",
    "save_dir = join(pre_save_dir, suite_name)\n",
    "if not isdir(save_dir):\n",
    "  makedirs(save_dir)\n",
    "brightest_dir = join(config.gendata_dir, config.gendata_brightest_name_template.substitute(catalog=catalog, _300kpc=name_extension))"
   ]
  },
  {
   "cell_type": "code",
   "execution_count": null,
   "id": "d02aa080",
   "metadata": {},
   "outputs": [],
   "source": [
    "data = read_halo(suite_name_decorated, suite_dir)"
   ]
  },
  {
   "cell_type": "code",
   "execution_count": null,
   "id": "c7a13fcf",
   "metadata": {},
   "outputs": [],
   "source": [
    "plot_distribution_D_rms_dispersion(suite_name, data_dir, data_surv_probs_dir, data, brightest_dir=brightest_dir, select_by_Rvir=select_by_Rvir, seed=seed, save_dir=save_dir, saveimage=saveimage)"
   ]
  },
  {
   "cell_type": "code",
   "execution_count": null,
   "id": "ccf17690",
   "metadata": {},
   "outputs": [],
   "source": [
    "plot_poles_brightest(suite_name, data, select_by_Rvir=select_by_Rvir, seed=seed, save_dir=save_dir, saveimage=saveimage)"
   ]
  },
  {
   "cell_type": "code",
   "execution_count": null,
   "id": "f7956792",
   "metadata": {},
   "outputs": [],
   "source": [
    "plot_poles_brightest_with_config(suite_name, data, select_by_Rvir=select_by_Rvir, seed=seed, save_dir=save_dir, saveimage=saveimage)"
   ]
  },
  {
   "cell_type": "code",
   "execution_count": null,
   "id": "88b7664f",
   "metadata": {},
   "outputs": [],
   "source": [
    "plot_D_sph_vs_k_brightest(suite_name, data, brightest_dir=brightest_dir, select_by_Rvir=select_by_Rvir, \n",
    "                          seed=seed, save_dir=save_dir, saveimage=saveimage)"
   ]
  },
  {
   "cell_type": "code",
   "execution_count": null,
   "id": "4bad404c",
   "metadata": {},
   "outputs": [],
   "source": [
    "plot_distribution_D_sph_dispersion(suite_name, data_dir, data_surv_probs_dir, data, brightest_dir=brightest_dir, select_by_Rvir=select_by_Rvir, seed=seed, save_dir=save_dir, saveimage=saveimage)"
   ]
  },
  {
   "cell_type": "code",
   "execution_count": null,
   "id": "d788a5ca",
   "metadata": {},
   "outputs": [],
   "source": [
    "plot_hist_D_rms_over_R_med_vs_D_sph(suite_name, data_surv_probs_dir, data, brightest_dir=brightest_dir, is_surv_probs=True, k=11, select_by_Rvir=select_by_Rvir, seed=seed, save_dir=save_dir, saveimage=saveimage)"
   ]
  },
  {
   "cell_type": "code",
   "execution_count": null,
   "id": "7afc1e24",
   "metadata": {},
   "outputs": [],
   "source": [
    "plot_hist_D_rms_vs_D_sph(suite_name, data_surv_probs_dir, data, brightest_dir=brightest_dir, is_surv_probs=True, k=11, select_by_Rvir=select_by_Rvir, seed=seed, save_dir=save_dir, saveimage=saveimage)"
   ]
  },
  {
   "cell_type": "code",
   "execution_count": null,
   "id": "809a7c2b",
   "metadata": {},
   "outputs": [],
   "source": [
    "plot_hist_D_rms_over_R_med_vs_D_sph(suite_name, data_surv_probs_dir, data, brightest_dir=brightest_dir, is_surv_probs=True, k=7, select_by_Rvir=select_by_Rvir, seed=seed, save_dir=save_dir, saveimage=saveimage)"
   ]
  },
  {
   "cell_type": "code",
   "execution_count": null,
   "id": "672af346",
   "metadata": {},
   "outputs": [],
   "source": [
    "plot_hist_D_rms_vs_D_sph(suite_name, data_surv_probs_dir, data, brightest_dir=brightest_dir, is_surv_probs=True, k=7, select_by_Rvir=select_by_Rvir, seed=seed, save_dir=save_dir, saveimage=saveimage)"
   ]
  },
  {
   "cell_type": "code",
   "execution_count": null,
   "id": "44cf38ff",
   "metadata": {},
   "outputs": [],
   "source": [
    "plot_hist_D_rms_vs_R_med(suite_name, data_surv_probs_dir, data, brightest_dir=brightest_dir, is_surv_probs=True, select_by_Rvir=select_by_Rvir, seed=seed, save_dir=save_dir, saveimage=saveimage)"
   ]
  },
  {
   "cell_type": "code",
   "execution_count": null,
   "id": "a550bf70",
   "metadata": {},
   "outputs": [],
   "source": [
    "fig, ax = plt.subplots(figsize=(8,6))\n",
    "dic = pd.read_csv(f\"{data_dir}/{suite_name}.csv\", usecols=['D_rms','R_med'])\n",
    "\n",
    "R_med = dic['R_med']\n",
    "\n",
    "ax.hist(R_med, bins=100)\n"
   ]
  }
 ],
 "metadata": {
  "interpreter": {
   "hash": "713ca4100616b18f8b62e6fde38a1db54d3f55cb02bc9cdfa990485424dceceb"
  },
  "kernelspec": {
   "display_name": "Python 3 (ipykernel)",
   "language": "python",
   "name": "python3"
  },
  "language_info": {
   "codemirror_mode": {
    "name": "ipython",
    "version": 3
   },
   "file_extension": ".py",
   "mimetype": "text/x-python",
   "name": "python",
   "nbconvert_exporter": "python",
   "pygments_lexer": "ipython3",
   "version": "3.9.7"
  }
 },
 "nbformat": 4,
 "nbformat_minor": 5
}
