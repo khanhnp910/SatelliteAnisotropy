{
 "cells": [
  {
   "cell_type": "code",
   "execution_count": null,
   "id": "5a8d2970",
   "metadata": {},
   "outputs": [],
   "source": [
    "from os import listdir, system\n",
    "from sys import argv\n",
    "\n",
    "import numpy as np\n",
    "\n",
    "\n",
    "from modules.spline import *\n",
    "from modules.stats import *\n",
    "from modules.helper_functions import *\n",
    "from modules.plot_functions import *\n",
    "\n",
    "import __main__"
   ]
  },
  {
   "cell_type": "code",
   "execution_count": null,
   "id": "4a00563f",
   "metadata": {},
   "outputs": [],
   "source": [
    "executed_as_python = hasattr(__main__, '__file__')\n",
    "saveimage = False\n",
    "if executed_as_python:\n",
    "    import matplotlib\n",
    "    matplotlib.use('Agg')\n",
    "    saveimage = True"
   ]
  },
  {
   "cell_type": "code",
   "execution_count": null,
   "id": "fffec00d",
   "metadata": {},
   "outputs": [],
   "source": [
    "# Insert Elvis directory here\n",
    "elvis_iso_dir = \"../../Elvis/IsolatedTrees\"\n",
    "\n",
    "# Insert suite name here\n",
    "suite_name = \"iLincoln\"\n",
    "type_suite = \"isolated\"\n",
    "halo_row = 0\n",
    "sub_suite_name = suite_name\n",
    "\n",
    "# # Insert Elvis directory here\n",
    "# elvis_iso_dir = \"../../Elvis/PairedTrees\"\n",
    "\n",
    "# # Insert suite name here\n",
    "# suite_name = \"Hall&Oates\"\n",
    "# type_suite = \"paired\"\n",
    "# halo_row = 1\n",
    "# sub_suite_name = \"Oates\"\n",
    "\n",
    "if executed_as_python:\n",
    "    suite_name = argv[1]\n",
    "    halo_row = int(argv[2])\n",
    "    \n",
    "    if suite_name.startswith('i'):\n",
    "        type_suite = 'isolated'\n",
    "        halo_row = 0\n",
    "        sub_suite_name = suite_name\n",
    "    else:\n",
    "        type_suite = 'paired'\n",
    "        split = suite_name.split('&')\n",
    "        sub_suite_name = split[halo_row]\n",
    "        elvis_iso_dir = \"../../Elvis/PairedTrees\"\n"
   ]
  },
  {
   "cell_type": "code",
   "execution_count": null,
   "id": "52db348b",
   "metadata": {},
   "outputs": [],
   "source": [
    "# Do not modify\n",
    "data = read_elvis_tracks(elvis_iso_dir, suite_name,varnames = ['Mvir','scale','X','Y','Z','ID','pID','Rvir','Vx','Vy','Vz'])\n"
   ]
  },
  {
   "cell_type": "code",
   "execution_count": null,
   "id": "f0952348",
   "metadata": {},
   "outputs": [],
   "source": [
    "_, lookback_time0, X0, Y0, Z0, Vx0, Vy0, Vz_0, Mvir0, Rvir0, coefs_X0, coefs_Y0, coefs_Z0, coefs_Mvir0, coefs_Rvir0 = extract_data(data, halo_row, isCoefsPos = True, isCoefsMvir = True, isCoefsRvir = True)"
   ]
  },
  {
   "cell_type": "code",
   "execution_count": null,
   "id": "9f778a11",
   "metadata": {},
   "outputs": [],
   "source": [
    "plot_pretty()"
   ]
  },
  {
   "cell_type": "code",
   "execution_count": null,
   "id": "c9b2b597",
   "metadata": {},
   "outputs": [],
   "source": [
    "num_halos = get_num_halos(data)\n",
    "num_time = get_num_time(data)"
   ]
  },
  {
   "cell_type": "code",
   "execution_count": null,
   "id": "413096f5",
   "metadata": {},
   "outputs": [],
   "source": [
    "arr_row, arr_time, arr_pos_acc, arr_vec_acc, arr_ang_pos_acc, arr_ang_vec_acc, arr_pos_cur, arr_vec_cur, arr_ang_pos_cur, arr_ang_vec_cur, arr_pos_cur_dis, arr_vec_cur_dis, arr_mass_acc, arr_mass_cur = get_arrays(sub_suite_name, type_suite, data, halo_row)\n"
   ]
  },
  {
   "cell_type": "code",
   "execution_count": null,
   "id": "c6da9c57",
   "metadata": {},
   "outputs": [],
   "source": [
    "title = f\"The current velocity distribution of massive subhalos of {sub_suite_name}\"\n",
    "img_name = f\"../../result/{type_suite}/{sub_suite_name}/current_velocity_distribution_of_subhalos_of_{sub_suite_name}.pdf\"\n",
    "\n",
    "plot_spherical_coordinates(arr_ang_vec_cur, arr_mass_cur, title, img_name, saveimage = saveimage)\n"
   ]
  },
  {
   "cell_type": "code",
   "execution_count": null,
   "id": "6b6d8225",
   "metadata": {},
   "outputs": [],
   "source": [
    "title = f\"The current position distribution of massive subhalos of {sub_suite_name}\"\n",
    "img_name = f\"../../result/{type_suite}/{sub_suite_name}/current_position_distribution_of_subhalos_of_{sub_suite_name}.pdf\"\n",
    "\n",
    "plot_spherical_coordinates(arr_ang_pos_cur, arr_mass_cur, title, img_name, saveimage = saveimage)\n"
   ]
  },
  {
   "cell_type": "code",
   "execution_count": null,
   "id": "55ccc378",
   "metadata": {},
   "outputs": [],
   "source": [
    "title = f\"The accretion velocity distribution of massive subhalos of {sub_suite_name}\"\n",
    "img_name = f\"../../result/{type_suite}/{sub_suite_name}/accretion_velocity_distribution_of_subhalos_of_{sub_suite_name}.pdf\"\n",
    "\n",
    "plot_spherical_coordinates(arr_ang_vec_acc, arr_mass_acc, title, img_name, arr_time = arr_time, isColorBar = True, saveimage = saveimage)"
   ]
  },
  {
   "cell_type": "code",
   "execution_count": null,
   "id": "489f4d2f",
   "metadata": {},
   "outputs": [],
   "source": [
    "title = f\"The accretion position distribution of massive subhalos of {sub_suite_name}\"\n",
    "img_name = f\"../../result/{type_suite}/{sub_suite_name}/accretion_position_distribution_of_subhalos_of_{sub_suite_name}.pdf\"\n",
    "\n",
    "plot_spherical_coordinates(arr_ang_pos_acc, arr_mass_acc, title, img_name, arr_time = arr_time, isColorBar = True, saveimage = saveimage)"
   ]
  },
  {
   "cell_type": "code",
   "execution_count": null,
   "id": "3730ce3c",
   "metadata": {},
   "outputs": [],
   "source": [
    "title = f\"Cumulative distribution of $\\cos(\\\\theta)$ of {sub_suite_name}'s subhalos at accretion\"\n",
    "img_name = f\"../../result/{type_suite}/{sub_suite_name}/cumulative_angular_distribution_of_{sub_suite_name}.pdf\"\n",
    "\n",
    "plot_kolmogorov(arr_pos_acc, img_name, title=title, saveimage=False)"
   ]
  },
  {
   "cell_type": "code",
   "execution_count": null,
   "id": "134b0120",
   "metadata": {},
   "outputs": [],
   "source": [
    "if not executed_as_python:\n",
    "    %matplotlib notebook\n",
    "    title = f'accretion distribution of subhalos of {sub_suite_name}'\n",
    "    plot_quiver(arr_pos_acc, arr_vec_acc, title=title, arr_time = arr_time, isColor = True)"
   ]
  },
  {
   "cell_type": "code",
   "execution_count": null,
   "id": "ba134b4c",
   "metadata": {},
   "outputs": [],
   "source": [
    "if not executed_as_python:\n",
    "    %matplotlib notebook\n",
    "    title = f\"current distribution of subhalos of {sub_suite_name}\"\n",
    "    plot_quiver(arr_pos_cur, arr_vec_cur, title=title)"
   ]
  },
  {
   "cell_type": "code",
   "execution_count": null,
   "id": "70e623ab",
   "metadata": {},
   "outputs": [],
   "source": [
    "if not executed_as_python:\n",
    "    %matplotlib notebook\n",
    "    title = f\"current distribution with distance of subhalos of {sub_suite_name}\"\n",
    "    plot_quiver(arr_pos_cur_dis, arr_vec_cur_dis, title=title)"
   ]
  },
  {
   "cell_type": "code",
   "execution_count": null,
   "id": "efa934c0",
   "metadata": {},
   "outputs": [],
   "source": [
    "if not executed_as_python:\n",
    "    %matplotlib notebook\n",
    "    \n",
    "    title = f\"current distribution of subhalos of {sub_suite_name} with poles\"\n",
    "    \n",
    "    poles = np.cross(arr_pos_cur, arr_vec_cur).T\n",
    "    temp = (np.sum(poles**2, axis = 0))**(1/2)\n",
    "    poles = np.array(poles/temp).T\n",
    "    \n",
    "    plot_quiver(arr_pos_cur, poles, title=title)"
   ]
  },
  {
   "cell_type": "code",
   "execution_count": null,
   "id": "c6b9d766",
   "metadata": {},
   "outputs": [],
   "source": [
    "prop = 'Mass'\n",
    "label = f\"{prop} of {sub_suite_name} halo\"\n",
    "title = f'{prop} evolution of {suite_name} halo'\n",
    "imgname = f\"../../result/{type_suite}/{suite_name}/{prop}_evolution_of_{suite_name}.pdf\"\n",
    "plot_evolution(lookback_time0, coefs_Mvir0, prop, label, title, imgname)"
   ]
  },
  {
   "cell_type": "code",
   "execution_count": null,
   "id": "b3c317e2",
   "metadata": {},
   "outputs": [],
   "source": [
    "img_name = f'../../result/{type_suite}/{sub_suite_name}/accretion_animation_of_{sub_suite_name}.gif'\n",
    "anim = make_animations(data, arr_row, num_time, halo_row, img_name, saveimage=saveimage)"
   ]
  },
  {
   "cell_type": "code",
   "execution_count": null,
   "id": "5ff43f76",
   "metadata": {},
   "outputs": [],
   "source": [
    "img_name = f\"../../result/{type_suite}/{sub_suite_name}/rms_height_evolution_of_subhalos_of_{sub_suite_name}.pdf\"\n",
    "title = f'rms height evolution of subhalos of {sub_suite_name}'\n",
    "plot_rms(data, arr_row, lookback_time0, X0, Y0, Z0, Rvir0, title, img_name, saveimage = saveimage)"
   ]
  },
  {
   "cell_type": "code",
   "execution_count": null,
   "id": "151d27f8",
   "metadata": {},
   "outputs": [],
   "source": [
    "imgname = f\"../../result/{type_suite}/{sub_suite_name}/distribution_rms_dispersion.pdf\"\n",
    "plot_distribution_rms_dispersion(sub_suite_name, halo_row, imgname, show_isotropy = True, show_uniform = True, ax=None, data=data, timedata_dir='timedata/'+type_suite, elvis_iso_dir = elvis_iso_dir, saveimage=saveimage)\n"
   ]
  },
  {
   "cell_type": "code",
   "execution_count": null,
   "id": "855eb961",
   "metadata": {},
   "outputs": [],
   "source": [
    "imgname=f\"../../result/{type_suite}/{sub_suite_name}/distribution_orbital_poles_and_uncertainties_for_{sub_suite_name}.pdf\"\n",
    "plot_orbital_poles(sub_suite_name,halo_row,data,imgname,timedata_dir=timedata_dir,saveimage=saveimage)\n"
   ]
  },
  {
   "cell_type": "code",
   "execution_count": null,
   "id": "d6a26f05",
   "metadata": {},
   "outputs": [],
   "source": [
    "imgname=f\"../../result/{type_suite}/{sub_suite_name}/distribution_orbital_poles_and_uncertainties_with_best_config_for_{sub_suite_name}.pdf\"\n",
    "plot_orbital_poles_with_best_config(sub_suite_name, halo_row, data, imgname, timedata_dir=timedata_dir, saveimage=saveimage)\n"
   ]
  },
  {
   "cell_type": "code",
   "execution_count": null,
   "id": "1bac1c8f",
   "metadata": {},
   "outputs": [],
   "source": [
    "imgname=f\"../../result/{type_suite}/{sub_suite_name}/distribution_rms_orbital_poles_dispersion_for_{sub_suite_name}.pdf\"\n",
    "plot_distribution_rms_orbital_poles_dispersion(sub_suite_name, halo_row, data, imgname, timedata_dir=timedata_dir, saveimage=saveimage)\n"
   ]
  },
  {
   "cell_type": "code",
   "execution_count": null,
   "id": "1aab3490",
   "metadata": {},
   "outputs": [],
   "source": [
    "imgname=f\"../../result/{type_suite}/{sub_suite_name}/distribution_rms_orbital_poles_dispersion_with_selection_for_{sub_suite_name}.pdf\"\n",
    "plot_distribution_rms_orbital_poles_dispersion_with_selection(sub_suite_name, halo_row, data, imgname, timedata_dir=timedata_dir, saveimage=saveimage)\n"
   ]
  },
  {
   "cell_type": "code",
   "execution_count": null,
   "id": "ac2cdc33",
   "metadata": {},
   "outputs": [],
   "source": [
    "imgname=f\"../../result/{type_suite}/{sub_suite_name}/hist_rms_vs_rms_pole_for_{sub_suite_name}.pdf\"\n",
    "plot_hist_rms_vs_rms_poles(sub_suite_name, halo_row, data, imgname, timedata_dir=timedata_dir, saveimage=saveimage)\n"
   ]
  }
 ],
 "metadata": {
  "kernelspec": {
   "display_name": "Python 3 (ipykernel)",
   "language": "python",
   "name": "python3"
  },
  "language_info": {
   "codemirror_mode": {
    "name": "ipython",
    "version": 3
   },
   "file_extension": ".py",
   "mimetype": "text/x-python",
   "name": "python",
   "nbconvert_exporter": "python",
   "pygments_lexer": "ipython3",
   "version": "3.9.7"
  }
 },
 "nbformat": 4,
 "nbformat_minor": 5
}
