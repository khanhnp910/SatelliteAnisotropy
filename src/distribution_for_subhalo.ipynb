{
 "cells": [
  {
   "cell_type": "code",
   "execution_count": null,
   "id": "290ae61a",
   "metadata": {},
   "outputs": [],
   "source": [
    "from os import listdir, system\n",
    "from sys import argv\n",
    "\n",
    "import numpy as np\n",
    "\n",
    "\n",
    "from modules.spline import *\n",
    "from modules.stats import *\n",
    "from modules.helper_functions import *\n",
    "from modules.plot_functions import *\n",
    "\n",
    "import matplotlib.pyplot as plt\n",
    "import matplotlib\n",
    "\n",
    "from scipy.stats import gaussian_kde\n",
    "\n",
    "import __main__"
   ]
  },
  {
   "cell_type": "code",
   "execution_count": null,
   "id": "477d09c5",
   "metadata": {},
   "outputs": [],
   "source": [
    "executed_as_python = hasattr(__main__, '__file__')\n",
    "saveimage = False\n",
    "if executed_as_python:\n",
    "    matplotlib.use('Agg')\n",
    "    saveimage = True"
   ]
  },
  {
   "cell_type": "code",
   "execution_count": null,
   "id": "4d831a1a",
   "metadata": {},
   "outputs": [],
   "source": [
    "# Insert Elvis directory here\n",
    "elvis_iso_dir = \"../../../Project/Elvis/IsolatedTrees\"\n",
    "\n",
    "# Insert suite name here\n",
    "suite_name = \"iHall\"\n",
    "\n",
    "if executed_as_python:\n",
    "    suite_name = argv[1]"
   ]
  },
  {
   "cell_type": "code",
   "execution_count": null,
   "id": "39feab25",
   "metadata": {},
   "outputs": [],
   "source": [
    "# Do not modify\n",
    "data = read_elvis_tracks(elvis_iso_dir, suite_name,varnames = ['Mvir','scale','X','Y','Z','ID','pID','Rvir','Vx','Vy','Vz'])\n",
    "\n"
   ]
  },
  {
   "cell_type": "code",
   "execution_count": null,
   "id": "dbcfd1e9",
   "metadata": {},
   "outputs": [],
   "source": [
    "def gen_dist(size = 1):\n",
    "    return np.random.rand(size)**(1/3)"
   ]
  },
  {
   "cell_type": "code",
   "execution_count": null,
   "id": "dc10ec80",
   "metadata": {},
   "outputs": [],
   "source": [
    "plot_pretty()"
   ]
  },
  {
   "cell_type": "code",
   "execution_count": null,
   "id": "0db1bbf9",
   "metadata": {},
   "outputs": [],
   "source": [
    "num_halos = get_num_halos(data)\n",
    "num_time = get_num_time(data)"
   ]
  },
  {
   "cell_type": "code",
   "execution_count": null,
   "id": "48d01553",
   "metadata": {},
   "outputs": [],
   "source": [
    "df = pd.read_csv(f'timedata/{suite_name}.csv')\n",
    "arr_row = np.array(df['row'])"
   ]
  },
  {
   "cell_type": "code",
   "execution_count": null,
   "id": "ad45acb0",
   "metadata": {},
   "outputs": [],
   "source": [
    "_, _, X0, Y0, Z0, Rvir0 = extract_data(data, 0, isVel = False, isRvir = True)"
   ]
  },
  {
   "cell_type": "code",
   "execution_count": null,
   "id": "f5b0ad23",
   "metadata": {},
   "outputs": [],
   "source": [
    "X = (data['X'][arr_row][:,0] - X0[0]) / Rvir0[0]\n",
    "Y = (data['Y'][arr_row][:,0] - Y0[0]) / Rvir0[0]\n",
    "Z = (data['Z'][arr_row][:,0] - Z0[0]) / Rvir0[0]\n",
    "\n",
    "inside_index = (X**2 + Y**2 + Z**2 < 1)\n",
    "new_X = X[inside_index]\n",
    "new_Y = Y[inside_index]\n",
    "new_Z = Z[inside_index]"
   ]
  },
  {
   "cell_type": "code",
   "execution_count": null,
   "id": "48908403",
   "metadata": {},
   "outputs": [],
   "source": [
    "if len(new_X) < 11:\n",
    "    print(\"fewer than 11 subhalos...\")\n",
    "else:\n",
    "    rmss = []\n",
    "    rmss_uniform_dense = []\n",
    "    rmss_subhalo = []\n",
    "    rmss_subhalo_isotropized = []\n",
    "    rs_subhalo = []\n",
    "    rmss_over_r_med_subhalo = []\n",
    "    iterations = 20000\n",
    "    num_chosen_subhalos = 11\n",
    "\n",
    "    for _ in range(iterations):\n",
    "        phi = np.random.uniform(size=num_chosen_subhalos)*2*np.pi\n",
    "        theta = np.random.uniform(size=num_chosen_subhalos)*np.pi\n",
    "        r = np.random.uniform(size=num_chosen_subhalos)\n",
    "        r_uniform_dense = gen_dist(size=num_chosen_subhalos)\n",
    "\n",
    "\n",
    "        x = r * np.cos(phi) * np.sin(theta)\n",
    "        y = r * np.sin(phi) * np.sin(theta)\n",
    "        z = r * np.cos(theta)\n",
    "        pos = np.array([x,y,z]).T\n",
    "        r_med = np.median(r)\n",
    "        rms = get_smallest_rms(pos, num_random_points = 10000)\n",
    "        rmss.append(rms/r_med)\n",
    "\n",
    "        x_uniform_dense = r_uniform_dense * np.cos(phi) * np.sin(theta)\n",
    "        y_uniform_dense = r_uniform_dense * np.sin(phi) * np.sin(theta)\n",
    "        z_uniform_dense = r_uniform_dense * np.cos(theta)\n",
    "        pos_uniform_dense = np.array([x_uniform_dense,y_uniform_dense,z_uniform_dense]).T\n",
    "        r_med_uniform_dense = np.median(r_uniform_dense)\n",
    "        rms_uniform_dense = get_smallest_rms(pos_uniform_dense, num_random_points = 10000)\n",
    "        rmss_uniform_dense.append(rms_uniform_dense/r_med_uniform_dense)\n",
    "        \n",
    "        temp_range = np.random.choice(np.arange(len(new_X)), size=num_chosen_subhalos, replace=False)\n",
    "        x_subhalo = new_X[temp_range]\n",
    "        y_subhalo = new_Y[temp_range]\n",
    "        z_subhalo = new_Z[temp_range]\n",
    "        pos_subhalo = np.array([x_subhalo,y_subhalo,z_subhalo]).T\n",
    "        r_subhalo = (x_subhalo**2+y_subhalo**2+z_subhalo**2)**(1/2)\n",
    "        r_med_subhalo = np.median(r_subhalo)\n",
    "        rms_subhalo = get_smallest_rms(pos_subhalo, num_random_points = 10000)\n",
    "        rmss_subhalo.append(rms_subhalo/r_med_subhalo)\n",
    "        \n",
    "        x_subhalo_isotropized = r_subhalo * np.cos(phi) * np.sin(theta)\n",
    "        y_subhalo_isotropized = r_subhalo * np.sin(phi) * np.sin(theta)\n",
    "        z_subhalo_isotropized = r_subhalo * np.cos(theta)\n",
    "        pos_subhalo_isotropized = np.array([x_subhalo_isotropized,y_subhalo_isotropized,z_subhalo_isotropized]).T\n",
    "        rms_subhalo_isotropized = get_smallest_rms(pos_subhalo_isotropized, num_random_points = 10000)\n",
    "        rmss_subhalo_isotropized.append(rms_subhalo_isotropized/r_med_subhalo)\n",
    "        \n",
    "        \n",
    "        rs_subhalo.append(r_med_subhalo)\n",
    "        rmss_over_r_med_subhalo.append(rms_subhalo/r_med_subhalo)"
   ]
  },
  {
   "cell_type": "code",
   "execution_count": null,
   "id": "7a985108",
   "metadata": {},
   "outputs": [],
   "source": [
    "if len(new_X) >= 11:\n",
    "    kernel = gaussian_kde(rmss)\n",
    "    kernel_uniform_dense = gaussian_kde(rmss_uniform_dense)\n",
    "    kernel_subhalo = gaussian_kde(rmss_subhalo)\n",
    "    kernel_subhalo_isotropized = gaussian_kde(rmss_subhalo_isotropized)\n",
    "    \n",
    "    \n",
    "    x = np.linspace(0, 1, num = 1000)\n",
    "    fig, ax = plt.subplots()\n",
    "    ax.plot(x, kernel(x), label=\"Isotropic and uniform in radius\")\n",
    "    ax.plot(x, kernel_uniform_dense(x), label=\"Uniformly dense\")\n",
    "    ax.plot(x, kernel_subhalo(x), label=f\"{suite_name}\")\n",
    "    ax.plot(x, kernel_subhalo_isotropized(x), label=f\"{suite_name} isotropized\")\n",
    "    ax.set_title('The distribution of the rms dispersions of satellite distribution around their best fit planes')\n",
    "    ax.set_xlabel('$D_{\\\\textrm{rms}}/R_{\\\\textrm{med}}$')\n",
    "    ax.set_ylabel('P($D_{\\\\textrm{rms}}/R_{\\\\textrm{med}}$)')\n",
    "    ax.legend()\n",
    "    plt.savefig(f\"../../result/data/{suite_name}/distribution_rms_dispersion_for_{suite_name}.pdf\")"
   ]
  },
  {
   "cell_type": "code",
   "execution_count": null,
   "id": "3422ce13",
   "metadata": {},
   "outputs": [],
   "source": [
    "if len(new_X) >= 11:\n",
    "    fig, ax = plt.subplots()\n",
    "    ax.scatter(rs_subhalo, rmss_over_r_med_subhalo)\n",
    "    ax.set_title('rms dispersions of satellite vs median of radius')\n",
    "    ax.set_xlabel('$R_{\\\\textrm{med}}/R_{\\\\textrm{vir}}$')\n",
    "    ax.set_ylabel('$D_{\\\\textrm{rms}}/R_{\\\\textrm{med}}$')\n",
    "    plt.savefig(f\"../../result/data/{suite_name}/rms_dispersion_vs_median_radius_for_{suite_name}.pdf\")"
   ]
  }
 ],
 "metadata": {
  "kernelspec": {
   "display_name": "Python 3 (ipykernel)",
   "language": "python",
   "name": "python3"
  },
  "language_info": {
   "codemirror_mode": {
    "name": "ipython",
    "version": 3
   },
   "file_extension": ".py",
   "mimetype": "text/x-python",
   "name": "python",
   "nbconvert_exporter": "python",
   "pygments_lexer": "ipython3",
   "version": "3.9.7"
  }
 },
 "nbformat": 4,
 "nbformat_minor": 5
}
