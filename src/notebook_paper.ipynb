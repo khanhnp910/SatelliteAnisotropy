{
 "cells": [
  {
   "cell_type": "code",
   "execution_count": null,
   "metadata": {},
   "outputs": [],
   "source": [
    "%load_ext autoreload\n",
    "%autoreload 2"
   ]
  },
  {
   "cell_type": "code",
   "execution_count": null,
   "metadata": {},
   "outputs": [],
   "source": [
    "from modules.stats_v3 import *\n",
    "from modules.helper_functions_v3 import plot_pretty\n",
    "from modules.plot_functions_v3 import plot_general, hist_general\n",
    "\n",
    "import config\n",
    "\n",
    "import __main__\n",
    "from sys import argv\n",
    "from os.path import join, isdir\n",
    "from os import makedirs"
   ]
  },
  {
   "cell_type": "code",
   "execution_count": null,
   "metadata": {},
   "outputs": [],
   "source": [
    "plot_pretty()\n",
    "saveimage = True"
   ]
  },
  {
   "cell_type": "code",
   "execution_count": null,
   "metadata": {},
   "outputs": [],
   "source": [
    "X_type = 'R_med'\n",
    "Y_type = 'D_rms'\n",
    "is_surv_probs = True"
   ]
  },
  {
   "cell_type": "code",
   "execution_count": null,
   "metadata": {},
   "outputs": [],
   "source": [
    "from string import Template\n",
    "\n",
    "brightest_dir_template = Template(join('${gendata_dir}', config.gendata_brightest_name_template.safe_substitute(_300kpc='_300kpc')))\n",
    "elvis_isolated_dir = join(config.raw_dir,config.elvis_isolated_raw_name)\n",
    "caterpillar_dir = join(config.raw_dir,config.caterpillar_raw_name)\n",
    "save_dir = join(config.result_dir,'general')\n",
    "if not isdir(save_dir):\n",
    "  makedirs(save_dir)"
   ]
  },
  {
   "cell_type": "code",
   "execution_count": null,
   "metadata": {},
   "outputs": [],
   "source": [
    "# plot_general(elvis_dir, None, brightest_dir_template, X_type=X_type, Y_type=Y_type, \n",
    "#              is_surv_probs=is_surv_probs, save_dir=save_dir, saveimage=saveimage, figsize=(5,5))"
   ]
  },
  {
   "cell_type": "markdown",
   "metadata": {},
   "source": [
    "## Figure 1: D_rms − R_med plot. One panel is 11 brightest in Caterpillar and ELVIS without disruption probability accounting"
   ]
  },
  {
   "cell_type": "code",
   "execution_count": null,
   "metadata": {},
   "outputs": [],
   "source": [
    "def plot_D_rms_R_med_elvis_caterpillar_without_surv_probs(figsize=(5,5)):\n",
    "  plot_general(elvis_isolated_dir=elvis_isolated_dir, caterpillar_dir=caterpillar_dir, \n",
    "               brightest_dir_template=brightest_dir_template, X_type='R_med', Y_type='D_rms', \n",
    "               is_surv_probs=False, save_dir=save_dir, saveimage=saveimage, figsize=figsize)\n",
    "\n",
    "def plot_D_rms_R_med_elvis_caterpillar_with_surv_probs(figsize=(5,5)):\n",
    "  plot_general(elvis_isolated_dir=elvis_isolated_dir, caterpillar_dir=caterpillar_dir, \n",
    "               brightest_dir_template=brightest_dir_template, X_type='R_med', Y_type='D_rms', \n",
    "               is_surv_probs=True, save_dir=save_dir, saveimage=saveimage, figsize=figsize)"
   ]
  },
  {
   "cell_type": "code",
   "execution_count": null,
   "metadata": {
    "scrolled": false
   },
   "outputs": [],
   "source": [
    "\n",
    "plot_D_rms_R_med_elvis_caterpillar_without_surv_probs(figsize=(3,3))\n"
   ]
  },
  {
   "cell_type": "code",
   "execution_count": null,
   "metadata": {},
   "outputs": [],
   "source": [
    "plot_D_rms_R_med_elvis_caterpillar_with_surv_probs(figsize=(3,3))"
   ]
  },
  {
   "cell_type": "markdown",
   "metadata": {},
   "source": [
    "### Figure 2. $D_{\\rm rms} − R_{\\rm med}$ plot. \n",
    "\n",
    "First panel: 11 brightest in Caterpillar and medians and 95 and 99 percentiles (as error bars) of the distributions without accounting for survival + MW. Second panel: 11 brightest in Caterpillar accounting for survival probability + MW, showing 95 and 99% as error bars + median and 95 and 99% as error bars of the overall distribution."
   ]
  },
  {
   "cell_type": "code",
   "execution_count": null,
   "metadata": {},
   "outputs": [],
   "source": [
    "data_dir = join(config.gendata_dir, \n",
    "                config.gendata_name_template.substitute(catalog='caterpillar', _300kpc='_300kpc', _surv_probs=''))\n",
    "data_surv_probs_dir = join(config.gendata_dir, \n",
    "                           config.gendata_name_template.substitute(catalog='caterpillar', _300kpc='_300kpc', \n",
    "                                                                   _surv_probs='_surv_probs'))\n",
    "brightest_dir = join(config.gendata_dir, \n",
    "                     config.gendata_brightest_name_template.substitute(catalog='caterpillar', _300kpc='_300kpc'))"
   ]
  },
  {
   "cell_type": "code",
   "execution_count": null,
   "metadata": {},
   "outputs": [],
   "source": [
    "hist_general(data_dir, X_type='D_rms', Y_type='R_med', save_dir=save_dir, \n",
    "             xlims=[0,125], ylims=[10,330], \n",
    "             saveimage=saveimage, figsize=(3,3))\n"
   ]
  },
  {
   "cell_type": "code",
   "execution_count": null,
   "metadata": {},
   "outputs": [],
   "source": [
    "hist_general(data_surv_probs_dir, brightest_dir=brightest_dir, X_type='D_rms', Y_type='R_med', \n",
    "             xlims=[0, 125], ylims=[10, 330], \n",
    "             is_surv_probs=True, save_dir=save_dir, saveimage=saveimage, figsize=(3,3))"
   ]
  },
  {
   "cell_type": "markdown",
   "metadata": {},
   "source": [
    "## Figure 3. $\\Delta_{\\rm sph} − \\Delta_{\\rm rms}$ plot.\n",
    "\n",
    "One panel is 11 brightest in Caterpillar without accounting for survival probability + MW, showing 95 and 99% as error bars + median and 95 and 99% as error bars of the overall distribution.. Second panel is 11 brightest in Caterpillar accounting for survival probability + MW, showing 95 and 99% as error bars + median and 95 and 99% as error bars of the overall distribution."
   ]
  },
  {
   "cell_type": "code",
   "execution_count": null,
   "metadata": {},
   "outputs": [],
   "source": [
    "hist_general(data_dir, X_type='D_rms', Y_type='D_sph_11', xlims=[0,125], ylims=[20,120],\n",
    "             save_dir=save_dir, saveimage=saveimage, figsize=(3,3))\n"
   ]
  },
  {
   "cell_type": "code",
   "execution_count": null,
   "metadata": {},
   "outputs": [],
   "source": [
    "hist_general(data_surv_probs_dir, brightest_dir=brightest_dir, X_type='D_rms', Y_type='D_sph_11', \n",
    "             is_surv_probs=True, ylims=[20,120], xlims=[0, 125], \n",
    "             save_dir=save_dir, saveimage=saveimage, figsize=(3,3))"
   ]
  }
 ],
 "metadata": {
  "interpreter": {
   "hash": "713ca4100616b18f8b62e6fde38a1db54d3f55cb02bc9cdfa990485424dceceb"
  },
  "kernelspec": {
   "display_name": "Python 3 (ipykernel)",
   "language": "python",
   "name": "python3"
  },
  "language_info": {
   "codemirror_mode": {
    "name": "ipython",
    "version": 3
   },
   "file_extension": ".py",
   "mimetype": "text/x-python",
   "name": "python",
   "nbconvert_exporter": "python",
   "pygments_lexer": "ipython3",
   "version": "3.9.7"
  }
 },
 "nbformat": 4,
 "nbformat_minor": 2
}
