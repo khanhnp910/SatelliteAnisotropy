{
 "cells": [
  {
   "cell_type": "code",
   "execution_count": null,
   "metadata": {},
   "outputs": [],
   "source": [
    "from modules.stats_v3 import *\n",
    "from modules.helper_functions_v3 import *\n",
    "from modules.plot_functions_v3 import *\n",
    "\n",
    "import config\n",
    "\n",
    "import __main__\n",
    "from sys import argv\n",
    "from os.path import join, isdir\n",
    "from os import makedirs"
   ]
  },
  {
   "cell_type": "code",
   "execution_count": null,
   "metadata": {},
   "outputs": [],
   "source": [
    "plot_pretty()\n",
    "saveimage = False"
   ]
  },
  {
   "cell_type": "code",
   "execution_count": 6,
   "metadata": {},
   "outputs": [],
   "source": [
    "X_type = 'R_med'\n",
    "Y_type = 'D_rms'\n",
    "is_surv_probs = False"
   ]
  },
  {
   "cell_type": "code",
   "execution_count": 8,
   "metadata": {},
   "outputs": [],
   "source": [
    "brightest_dir_template = Template(join('${gendata_dir}', config.gendata_brightest_name_template.safe_substitute(_300kpc='_300kpc')))\n",
    "elvis_dir = join(config.raw_dir,config.elvis_isolated_raw_name)\n",
    "caterpillar_dir = join(config.raw_dir,config.caterpillar_raw_name)\n",
    "save_dir = join(config.result_dir,'general')\n",
    "if not isdir(save_dir):\n",
    "  makedirs(save_dir)"
   ]
  },
  {
   "cell_type": "code",
   "execution_count": null,
   "metadata": {},
   "outputs": [],
   "source": [
    "plot_general(elvis_dir, caterpillar_dir, brightest_dir_template, X_type=X_type, Y_type=Y_type, \n",
    "             is_surv_probs=is_surv_probs, save_dir=save_dir, saveimage=saveimage, figsize=(5,5))"
   ]
  },
  {
   "cell_type": "code",
   "execution_count": null,
   "metadata": {},
   "outputs": [],
   "source": []
  }
 ],
 "metadata": {
  "interpreter": {
   "hash": "713ca4100616b18f8b62e6fde38a1db54d3f55cb02bc9cdfa990485424dceceb"
  },
  "kernelspec": {
   "display_name": "Python 3 (ipykernel)",
   "language": "python",
   "name": "python3"
  },
  "language_info": {
   "codemirror_mode": {
    "name": "ipython",
    "version": 3
   },
   "file_extension": ".py",
   "mimetype": "text/x-python",
   "name": "python",
   "nbconvert_exporter": "python",
   "pygments_lexer": "ipython3",
   "version": "3.9.7"
  }
 },
 "nbformat": 4,
 "nbformat_minor": 2
}
