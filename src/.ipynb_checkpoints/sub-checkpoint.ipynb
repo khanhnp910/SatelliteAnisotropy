{
 "cells": [
  {
   "cell_type": "code",
   "execution_count": null,
   "id": "9ee5d108",
   "metadata": {},
   "outputs": [],
   "source": [
    "import numpy as np\n",
    "from modules.stats import *"
   ]
  },
  {
   "cell_type": "code",
   "execution_count": null,
   "id": "2c3c7d96",
   "metadata": {},
   "outputs": [],
   "source": [
    "# generate random points that is uniformly spherically and radially\n",
    "phi = np.random.uniform(size=100000)*2*np.pi\n",
    "theta = np.random.uniform(size=100000)*np.pi\n",
    "r = np.random.uniform(size=100000)\n",
    "\n",
    "\n",
    "x = r * np.cos(phi) * np.sin(theta)\n",
    "y = r * np.sin(phi) * np.sin(theta)\n",
    "z = r * np.cos(theta)\n",
    "\n",
    "pos = np.array([x,y,z]).T\n",
    "\n",
    "print(get_smallest_rms(pos, num_random_points = 10000))"
   ]
  },
  {
   "cell_type": "markdown",
   "id": "5db50e71",
   "metadata": {},
   "source": [
    "The theoretical value of the rms is $\\frac{1}{2\\sqrt{3}}\\approx 0.28867$."
   ]
  },
  {
   "cell_type": "code",
   "execution_count": null,
   "id": "ca17beef",
   "metadata": {},
   "outputs": [],
   "source": [
    "# print(get_smallest_rms(pos, num_random_points = 10000)[1])\n",
    "# print(get_smallest_rms(pos, isRemovingOutliers = True, num_random_points = 10000)[1])\n",
    "\n",
    "# rmss = []\n",
    "# iterations = 1000\n",
    "# num_chosen_subhalos = 11\n",
    "\n",
    "# for _ in range(iterations):\n",
    "#     phi = np.random.uniform(size=num_chosen_subhalos)*2*np.pi\n",
    "#     theta = np.random.uniform(size=num_chosen_subhalos)*np.pi\n",
    "#     r = np.random.uniform(size=num_chosen_subhalos)\n",
    "\n",
    "\n",
    "#     x = r * np.cos(phi) * np.sin(theta)\n",
    "#     y = r * np.sin(phi) * np.sin(theta)\n",
    "#     z = r * np.cos(theta)\n",
    "\n",
    "#     pos = np.array([x,y,z]).T\n",
    "    \n",
    "#     rms = get_smallest_rms(pos, num_random_points = 10000)\n",
    "    \n",
    "#     rmss.append(rms)\n",
    "    \n",
    "# print(rmss)"
   ]
  },
  {
   "cell_type": "code",
   "execution_count": null,
   "id": "404f07a9",
   "metadata": {},
   "outputs": [],
   "source": [
    "# x = np.array([[1,2,3],[2,3,4]])\n",
    "# y = np.array([[1,2,3],[2,3,4],[3,4,5],[4,5,6]])\n",
    "\n",
    "# temp = np.matmul(x, y.T)\n",
    "# coef= np.mean(temp, axis = 0)\n",
    "# print(temp)\n",
    "# print(coef)\n",
    "# print((1/2*np.sum((temp-coef)**2, axis = 0))**(1/2))"
   ]
  },
  {
   "cell_type": "code",
   "execution_count": null,
   "id": "89c61b42",
   "metadata": {},
   "outputs": [],
   "source": [
    "# num_random_points = 10000\n",
    "# arr = np.random.rand(num_random_points,2)*np.array([np.pi/2, 2*np.pi])\n",
    "# print(arr.shape)"
   ]
  },
  {
   "cell_type": "code",
   "execution_count": null,
   "id": "56a0396f",
   "metadata": {},
   "outputs": [],
   "source": [
    "# x = np.array([2,3])\n",
    "# y = np.cos(x)\n",
    "# print(y)"
   ]
  },
  {
   "cell_type": "code",
   "execution_count": null,
   "id": "38aa9a27",
   "metadata": {},
   "outputs": [],
   "source": []
  }
 ],
 "metadata": {
  "kernelspec": {
   "display_name": "Python 3 (ipykernel)",
   "language": "python",
   "name": "python3"
  },
  "language_info": {
   "codemirror_mode": {
    "name": "ipython",
    "version": 3
   },
   "file_extension": ".py",
   "mimetype": "text/x-python",
   "name": "python",
   "nbconvert_exporter": "python",
   "pygments_lexer": "ipython3",
   "version": "3.9.7"
  }
 },
 "nbformat": 4,
 "nbformat_minor": 5
}
