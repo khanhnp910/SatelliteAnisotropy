{
 "cells": [
  {
   "cell_type": "code",
   "execution_count": 1,
   "id": "9ee5d108",
   "metadata": {},
   "outputs": [],
   "source": [
    "import numpy as np\n",
    "from modules.stats import *"
   ]
  },
  {
   "cell_type": "code",
   "execution_count": 2,
   "id": "2c3c7d96",
   "metadata": {},
   "outputs": [],
   "source": [
    "# generate random points that is uniformly spherically and radially\n",
    "phi = np.random.uniform(size=1000000)*2*np.pi\n",
    "theta = np.random.uniform(size=1000000)*np.pi\n",
    "r = np.random.uniform(size=1000000)\n",
    "\n",
    "\n",
    "x = r * np.cos(phi) * np.sin(theta)\n",
    "y = r * np.sin(phi) * np.sin(theta)\n",
    "z = r * np.cos(theta)\n",
    "\n",
    "pos = np.array([x,y,z]).T"
   ]
  },
  {
   "cell_type": "markdown",
   "id": "5db50e71",
   "metadata": {},
   "source": [
    "The theoretical value of the rms is $\\frac{1}{2\\sqrt{3}}\\approx 0.28867$."
   ]
  },
  {
   "cell_type": "code",
   "execution_count": null,
   "id": "ca17beef",
   "metadata": {},
   "outputs": [],
   "source": [
    "print(get_smallest_rms(pos, 10000)[1])\n"
   ]
  },
  {
   "cell_type": "code",
   "execution_count": null,
   "id": "404f07a9",
   "metadata": {},
   "outputs": [],
   "source": []
  },
  {
   "cell_type": "code",
   "execution_count": null,
   "id": "89c61b42",
   "metadata": {},
   "outputs": [],
   "source": []
  }
 ],
 "metadata": {
  "kernelspec": {
   "display_name": "Python 3 (ipykernel)",
   "language": "python",
   "name": "python3"
  },
  "language_info": {
   "codemirror_mode": {
    "name": "ipython",
    "version": 3
   },
   "file_extension": ".py",
   "mimetype": "text/x-python",
   "name": "python",
   "nbconvert_exporter": "python",
   "pygments_lexer": "ipython3",
   "version": "3.9.7"
  }
 },
 "nbformat": 4,
 "nbformat_minor": 5
}
